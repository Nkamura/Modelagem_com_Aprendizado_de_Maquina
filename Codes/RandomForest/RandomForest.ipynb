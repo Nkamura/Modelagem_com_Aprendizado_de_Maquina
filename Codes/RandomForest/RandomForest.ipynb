{
 "cells": [
  {
   "cell_type": "code",
   "execution_count": null,
   "metadata": {},
   "outputs": [
    {
     "name": "stdout",
     "output_type": "stream",
     "text": [
      "        qPA       pulso       resp\n",
      "0  8.416754   75.921057  21.635259\n",
      "1  8.725890   63.813564  19.718734\n",
      "2  0.000000  197.210213  19.045471\n",
      "3  8.733333  143.636181  17.621141\n",
      "4  1.747626   82.636672  12.209535\n"
     ]
    }
   ],
   "source": [
    "import pandas as pd\n",
    "from sklearn.ensemble import RandomForestClassifier\n",
    "from sklearn.model_selection import train_test_split\n",
    "from sklearn.metrics import accuracy_score, classification_report\n",
    "\n",
    "#• qPA: qualidade da pressão arterial; resulta da avaliação da relação entre a pressão \n",
    "#sistólica e a diastólica; \n",
    "#• pulso: pulsação ou Batimento por Minuto (pulso); \n",
    "#• frequência respiratória: frequência da respiração por minuto; \n",
    "#• gravidade: um valor calculado em função dos sinais vitais acima \n",
    "#• classes de gravidade: são 4 classes que apresentam o estado de saúde do acidentado. \n",
    "\n",
    "\n",
    "\n",
    "#Reconstituir o cálculo do fator da gravidade\n",
    "\n",
    "#Leitura dos Sinai vitais - ajustar os dados se preciso (label ou nao)\n",
    "path = '../../Dados/treino_sinais_vitais_com_label.txt'\n",
    "DataFrame = pd.read_csv(path, sep=',', header=None)\n"
   ]
  },
  {
   "cell_type": "code",
   "execution_count": null,
   "metadata": {},
   "outputs": [],
   "source": []
  }
 ],
 "metadata": {
  "kernelspec": {
   "display_name": "Python 3",
   "language": "python",
   "name": "python3"
  },
  "language_info": {
   "codemirror_mode": {
    "name": "ipython",
    "version": 3
   },
   "file_extension": ".py",
   "mimetype": "text/x-python",
   "name": "python",
   "nbconvert_exporter": "python",
   "pygments_lexer": "ipython3",
   "version": "3.11.5"
  }
 },
 "nbformat": 4,
 "nbformat_minor": 2
}
